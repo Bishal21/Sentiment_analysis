{
 "cells": [
  {
   "cell_type": "markdown",
   "metadata": {},
   "source": [
    "# Import Libraries"
   ]
  },
  {
   "cell_type": "code",
   "execution_count": 1,
   "metadata": {
    "colab": {
     "base_uri": "https://localhost:8080/",
     "height": 52
    },
    "colab_type": "code",
    "id": "Qds5OKhOgBrm",
    "outputId": "baf407b5-2e02-4b2a-d513-df4f51c2d07e"
   },
   "outputs": [
    {
     "name": "stderr",
     "output_type": "stream",
     "text": [
      "[nltk_data] Downloading package stopwords to\n",
      "[nltk_data]     C:\\Users\\windows\\AppData\\Roaming\\nltk_data...\n",
      "[nltk_data]   Unzipping corpora\\stopwords.zip.\n"
     ]
    }
   ],
   "source": [
    "from __future__ import division\n",
    "import numpy as np\n",
    "import pandas as pd\n",
    "import string\n",
    "import re\n",
    "from sklearn.model_selection import train_test_split\n",
    "import nltk\n",
    "from nltk.corpus import stopwords\n",
    "nltk.download('stopwords')\n",
    "stopwords = stopwords.words('english')\n",
    "import matplotlib.pyplot as plt\n",
    "\n",
    "from collections import Counter\n",
    "# Read in tweet data\n",
    "tweets = pd.read_csv('Tweets.csv')\n",
    "\n",
    "df = tweets.copy()[['airline_sentiment', 'text']]"
   ]
  },
  {
   "cell_type": "markdown",
   "metadata": {},
   "source": [
    "# Pre-processing"
   ]
  },
  {
   "cell_type": "code",
   "execution_count": 2,
   "metadata": {},
   "outputs": [
    {
     "name": "stdout",
     "output_type": "stream",
     "text": [
      "Raw Dataframe:\n"
     ]
    },
    {
     "data": {
      "text/html": [
       "<div>\n",
       "<style scoped>\n",
       "    .dataframe tbody tr th:only-of-type {\n",
       "        vertical-align: middle;\n",
       "    }\n",
       "\n",
       "    .dataframe tbody tr th {\n",
       "        vertical-align: top;\n",
       "    }\n",
       "\n",
       "    .dataframe thead th {\n",
       "        text-align: right;\n",
       "    }\n",
       "</style>\n",
       "<table border=\"1\" class=\"dataframe\">\n",
       "  <thead>\n",
       "    <tr style=\"text-align: right;\">\n",
       "      <th></th>\n",
       "      <th>airline_sentiment</th>\n",
       "      <th>text</th>\n",
       "    </tr>\n",
       "  </thead>\n",
       "  <tbody>\n",
       "    <tr>\n",
       "      <th>0</th>\n",
       "      <td>neutral</td>\n",
       "      <td>@VirginAmerica What @dhepburn said.</td>\n",
       "    </tr>\n",
       "    <tr>\n",
       "      <th>1</th>\n",
       "      <td>positive</td>\n",
       "      <td>@VirginAmerica plus you've added commercials t...</td>\n",
       "    </tr>\n",
       "    <tr>\n",
       "      <th>2</th>\n",
       "      <td>neutral</td>\n",
       "      <td>@VirginAmerica I didn't today... Must mean I n...</td>\n",
       "    </tr>\n",
       "    <tr>\n",
       "      <th>3</th>\n",
       "      <td>negative</td>\n",
       "      <td>@VirginAmerica it's really aggressive to blast...</td>\n",
       "    </tr>\n",
       "    <tr>\n",
       "      <th>4</th>\n",
       "      <td>negative</td>\n",
       "      <td>@VirginAmerica and it's a really big bad thing...</td>\n",
       "    </tr>\n",
       "    <tr>\n",
       "      <th>5</th>\n",
       "      <td>negative</td>\n",
       "      <td>@VirginAmerica seriously would pay $30 a fligh...</td>\n",
       "    </tr>\n",
       "    <tr>\n",
       "      <th>6</th>\n",
       "      <td>positive</td>\n",
       "      <td>@VirginAmerica yes, nearly every time I fly VX...</td>\n",
       "    </tr>\n",
       "    <tr>\n",
       "      <th>7</th>\n",
       "      <td>neutral</td>\n",
       "      <td>@VirginAmerica Really missed a prime opportuni...</td>\n",
       "    </tr>\n",
       "    <tr>\n",
       "      <th>8</th>\n",
       "      <td>positive</td>\n",
       "      <td>@virginamerica Well, I didn't…but NOW I DO! :-D</td>\n",
       "    </tr>\n",
       "    <tr>\n",
       "      <th>9</th>\n",
       "      <td>positive</td>\n",
       "      <td>@VirginAmerica it was amazing, and arrived an ...</td>\n",
       "    </tr>\n",
       "  </tbody>\n",
       "</table>\n",
       "</div>"
      ],
      "text/plain": [
       "  airline_sentiment                                               text\n",
       "0           neutral                @VirginAmerica What @dhepburn said.\n",
       "1          positive  @VirginAmerica plus you've added commercials t...\n",
       "2           neutral  @VirginAmerica I didn't today... Must mean I n...\n",
       "3          negative  @VirginAmerica it's really aggressive to blast...\n",
       "4          negative  @VirginAmerica and it's a really big bad thing...\n",
       "5          negative  @VirginAmerica seriously would pay $30 a fligh...\n",
       "6          positive  @VirginAmerica yes, nearly every time I fly VX...\n",
       "7           neutral  @VirginAmerica Really missed a prime opportuni...\n",
       "8          positive    @virginamerica Well, I didn't…but NOW I DO! :-D\n",
       "9          positive  @VirginAmerica it was amazing, and arrived an ..."
      ]
     },
     "execution_count": 2,
     "metadata": {},
     "output_type": "execute_result"
    }
   ],
   "source": [
    "print('Raw Dataframe:')\n",
    "df.head(10)"
   ]
  },
  {
   "cell_type": "code",
   "execution_count": 3,
   "metadata": {},
   "outputs": [
    {
     "data": {
      "image/png": "[encoded data removed]",
      "text/plain": [
       "<Figure size 1080x720 with 1 Axes>"
      ]
     },
     "metadata": {
      "needs_background": "light"
     },
     "output_type": "display_data"
    }
   ],
   "source": [
    "# Plot sentiment distribution\n",
    "df['airline_sentiment'].value_counts().plot(kind = 'barh',\n",
    "                                            figsize = (15,10));\n",
    "plt.title('Airline Sentiment Distribution', \n",
    "          fontsize = 26, weight = 'bold')\n",
    "plt.xlabel('Frequency', fontsize = 22)\n",
    "plt.xticks(fontsize = 20)\n",
    "plt.yticks(fontsize = 20);"
   ]
  },
  {
   "cell_type": "markdown",
   "metadata": {},
   "source": [
    "# Define number of classes and number of tweets per class"
   ]
  },
  {
   "cell_type": "code",
   "execution_count": 4,
   "metadata": {
    "colab": {},
    "colab_type": "code",
    "id": "kFJ44vjylPCi"
   },
   "outputs": [],
   "source": [
    "n_class = 2\n",
    "n_tweet = 2363\n",
    "\n",
    "# Divide into number of classes\n",
    "if n_class == 2:\n",
    "    df_pos = df.copy()[df.airline_sentiment == 'positive'][:n_tweet]\n",
    "    df_neg = df.copy()[df.airline_sentiment == 'negative'][:n_tweet]\n",
    "    df_neu = pd.DataFrame()\n",
    "    df = pd.concat([df_pos, df_neg], ignore_index=True).reset_index(drop=True)\n",
    "elif n_class == 3:\n",
    "    df_pos = df.copy()[df.airline_sentiment == 'positive'][:n_tweet]\n",
    "    df_neg = df.copy()[df.airline_sentiment == 'negative'][:n_tweet]\n",
    "    df_neu = df.copy()[df.airline_sentiment == 'neutral'][:n_tweet]\n",
    "    df = pd.concat([df_pos, df_neg, df_neu], ignore_index=True).reset_index(drop=True)\n",
    "\n",
    "# Define functions to process Tweet text and remove stop words\n",
    "def ProTweets(tweet):\n",
    "    tweet = ''.join(c for c in tweet if c not in string.punctuation)\n",
    "    tweet = re.sub('((www\\S+)|(http\\S+))', 'urlsite', tweet)\n",
    "    tweet = re.sub(r'\\d+', 'contnum', tweet)\n",
    "    tweet = re.sub(' +',' ', tweet)\n",
    "    tweet = tweet.lower().strip()\n",
    "    return tweet\n",
    "\n",
    "def rmStopWords(tweet, stop_words):\n",
    "    text = tweet.split()\n",
    "    text = ' '.join(word for word in text if word not in stop_words)\n",
    "    return text"
   ]
  },
  {
   "cell_type": "markdown",
   "metadata": {},
   "source": [
    "# Reading a list of stop words and processing each line of tweets in the dataframe using the function we've defined above."
   ]
  },
  {
   "cell_type": "code",
   "execution_count": 5,
   "metadata": {
    "colab": {},
    "colab_type": "code",
    "id": "QivRGqCzoxDy"
   },
   "outputs": [],
   "source": [
    "stopwords = [''.join(c for c in s if c not in string.punctuation) for s in stopwords]\n",
    "stopwords = [t.encode('utf-8') for t in stopwords]\n",
    "\n"
   ]
  },
  {
   "cell_type": "markdown",
   "metadata": {},
   "source": [
    "# Preprocess all tweet data"
   ]
  },
  {
   "cell_type": "code",
   "execution_count": 6,
   "metadata": {},
   "outputs": [],
   "source": [
    "# Preprocess all tweet data\n",
    "pro_tweets = []\n",
    "for tweet in df['text']:\n",
    "    processed = ProTweets(tweet)\n",
    "    pro_stopw = rmStopWords(processed, stopwords)\n",
    "    pro_tweets.append(pro_stopw)\n",
    "\n",
    "df['text'] = pro_tweets"
   ]
  },
  {
   "cell_type": "code",
   "execution_count": 7,
   "metadata": {
    "colab": {},
    "colab_type": "code",
    "id": "M1q5Mr0Yo3UC"
   },
   "outputs": [],
   "source": [
    "X_train, X_test, y_train, y_test = train_test_split(df['text'], df['airline_sentiment'], test_size=0.33, random_state=0)\n",
    "\n",
    "df_train = pd.DataFrame()\n",
    "df_test = pd.DataFrame()\n",
    "\n",
    "df_train['text'] = X_train\n",
    "df_train['airline_sentiment'] = y_train\n",
    "df_train = df_train.reset_index(drop=True)\n",
    "\n",
    "df_test['text'] = X_test\n",
    "df_test['airline_sentiment'] = y_test\n",
    "df_test = df_test.reset_index(drop=True)"
   ]
  },
  {
   "cell_type": "markdown",
   "metadata": {},
   "source": [
    "# Start training (input training set df_train)"
   ]
  },
  {
   "cell_type": "code",
   "execution_count": 8,
   "metadata": {
    "colab": {},
    "colab_type": "code",
    "id": "FXgAEdxepSd2"
   },
   "outputs": [],
   "source": [
    "class TweetNBClassifier(object):\n",
    "\n",
    "    def __init__(self, df_train):\n",
    "        self.df_train = df_train\n",
    "        self.df_pos = df_train.copy()[df_train.airline_sentiment == 'positive']\n",
    "        self.df_neg = df_train.copy()[df_train.airline_sentiment == 'negative']\n",
    "        self.df_neu = df_train.copy()[df_train.airline_sentiment == 'neutral']\n",
    "\n",
    "    def fit(self):\n",
    "        Pr_pos = df_pos.shape[0]/self.df_train.shape[0]\n",
    "        Pr_neg = df_neg.shape[0]/self.df_train.shape[0]\n",
    "        Pr_neu = df_neu.shape[0]/self.df_train.shape[0]\n",
    "        self.Prior  = (Pr_pos, Pr_neg, Pr_neu)\n",
    "\n",
    "        self.pos_words = ' '.join(self.df_pos['text'].tolist()).split()\n",
    "        self.neg_words = ' '.join(self.df_neg['text'].tolist()).split()\n",
    "        self.neu_words = ' '.join(self.df_neu['text'].tolist()).split()\n",
    "\n",
    "        all_words = ' '.join(self.df_train['text'].tolist()).split()\n",
    "\n",
    "        self.vocab = len(Counter(all_words))\n",
    "\n",
    "        wc_pos = len(' '.join(self.df_pos['text'].tolist()).split())\n",
    "        wc_neg = len(' '.join(self.df_neg['text'].tolist()).split())\n",
    "        wc_neu = len(' '.join(self.df_neu['text'].tolist()).split())\n",
    "        self.word_count = (wc_pos, wc_neg, wc_neu)\n",
    "        return self\n",
    "\n",
    "\n",
    "    def predict(self, df_test):\n",
    "        class_choice = ['positive', 'negative', 'neutral']\n",
    "\n",
    "        classification = []\n",
    "        for tweet in df_test['text']:\n",
    "            text = tweet.split()\n",
    "\n",
    "            val_pos = np.array([])\n",
    "            val_neg = np.array([])\n",
    "            val_neu = np.array([])\n",
    "            for word in text:\n",
    "                tmp_pos = np.log((self.pos_words.count(word)+1)/(self.word_count[0]+self.vocab))\n",
    "                tmp_neg = np.log((self.neg_words.count(word)+1)/(self.word_count[1]+self.vocab))\n",
    "                tmp_neu = np.log((self.neu_words.count(word)+1)/(self.word_count[2]+self.vocab))\n",
    "                val_pos = np.append(val_pos, tmp_pos)\n",
    "                val_neg = np.append(val_neg, tmp_neg)\n",
    "                val_neu = np.append(val_neu, tmp_neu)\n",
    "\n",
    "            val_pos = np.log(self.Prior[0]) + np.sum(val_pos)\n",
    "            val_neg = np.log(self.Prior[1]) + np.sum(val_neg)\n",
    "            val_neu = np.log(self.Prior[2]) + np.sum(val_neu)\n",
    "\n",
    "            probability = (val_pos, val_neg, val_neu)\n",
    "            classification.append(class_choice[np.argmax(probability)])\n",
    "        return classification\n",
    "\n",
    "\n",
    "    def score(self, feature, target):\n",
    "\n",
    "        compare = []\n",
    "        for i in range(0,len(feature)):\n",
    "            if feature[i] == target[i]:\n",
    "                tmp ='correct'\n",
    "                compare.append(tmp)\n",
    "            else:\n",
    "                tmp ='incorrect'\n",
    "                compare.append(tmp)\n",
    "        r = Counter(compare)\n",
    "        accuracy = r['correct']/(r['correct']+r['incorrect'])\n",
    "        return accuracy"
   ]
  },
  {
   "cell_type": "markdown",
   "metadata": {},
   "source": [
    "# Running the classifier to see how well its done on our test data!"
   ]
  },
  {
   "cell_type": "code",
   "execution_count": 9,
   "metadata": {
    "colab": {
     "base_uri": "https://localhost:8080/",
     "height": 52
    },
    "colab_type": "code",
    "id": "ITiJY4GopbbN",
    "outputId": "2deb2b86-2427-4b6c-9cd7-739c3a38bfb9"
   },
   "outputs": [
    {
     "name": "stderr",
     "output_type": "stream",
     "text": [
      "C:\\ProgramData\\Anaconda3\\lib\\site-packages\\ipykernel_launcher.py:50: RuntimeWarning: divide by zero encountered in log\n"
     ]
    },
    {
     "name": "stdout",
     "output_type": "stream",
     "text": [
      "0.926923076923077\n"
     ]
    }
   ],
   "source": [
    "tnb = TweetNBClassifier(df_train)\n",
    "tnb = tnb.fit()\n",
    "predict = tnb.predict(df_test)\n",
    "score = tnb.score(predict,df_test.airline_sentiment.tolist())\n",
    "print(score)"
   ]
  },
  {
   "cell_type": "code",
   "execution_count": null,
   "metadata": {
    "colab": {},
    "colab_type": "code",
    "id": "92lAO42UpgM5"
   },
   "outputs": [],
   "source": []
  }
 ],
 "metadata": {
  "colab": {
   "collapsed_sections": [],
   "name": "SentiA.ipynb",
   "provenance": []
  },
  "kernelspec": {
   "display_name": "Python 3",
   "language": "python",
   "name": "python3"
  },
  "language_info": {
   "codemirror_mode": {
    "name": "ipython",
    "version": 3
   },
   "file_extension": ".py",
   "mimetype": "text/x-python",
   "name": "python",
   "nbconvert_exporter": "python",
   "pygments_lexer": "ipython3",
   "version": "3.7.3"
  }
 },
 "nbformat": 4,
 "nbformat_minor": 4
}
